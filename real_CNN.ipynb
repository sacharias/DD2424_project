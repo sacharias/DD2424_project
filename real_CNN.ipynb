{
 "cells": [
  {
   "cell_type": "code",
   "execution_count": 24,
   "metadata": {},
   "outputs": [],
   "source": [
    "# find ./ -mindepth 2 -type f -exec mv -n '{}' . \\;\n",
    "# ls -1 | wc -l"
   ]
  },
  {
   "cell_type": "code",
   "execution_count": 1,
   "metadata": {},
   "outputs": [],
   "source": [
    "import numpy as np\n",
    "import torch\n",
    "import torchvision\n",
    "import torchvision.transforms as transforms\n",
    "import matplotlib.pyplot as plt\n",
    "import numpy as np\n",
    "import torch.nn as nn\n",
    "import torch.nn.functional as F\n",
    "import torch.optim as optim\n",
    "from torch.utils import data as D\n",
    "\n",
    "from customdataset import TinyImageNet, imshow_combine"
   ]
  },
  {
   "cell_type": "code",
   "execution_count": 11,
   "metadata": {},
   "outputs": [],
   "source": [
    "path = 'data/tiny-imagenet-200/train/n01443537/images/'\n",
    "tiny_imagenet = TinyImageNet(path)\n",
    "loader = D.DataLoader(tiny_imagenet, batch_size=16, shuffle=False)\n",
    "dataiter = iter(loader)\n",
    "\n",
    "# Bilderna bör vara i storleken 256 x 256 alternativt 224 x 224"
   ]
  },
  {
   "cell_type": "code",
   "execution_count": 22,
   "metadata": {},
   "outputs": [],
   "source": [
    "# input: batch_sze x 1 x 224 x 224\n",
    "\n",
    "class ColorNet(nn.Module):\n",
    "    def __init__(self):\n",
    "        super(ColorNet, self).__init__()\n",
    "        self.features = nn.Sequential(\n",
    "            # conv1\n",
    "            nn.Conv2d(1, 64, kernel_size=3, stride=1, padding=1),\n",
    "            nn.ReLU(),\n",
    "            nn.Conv2d(64, 64, kernel_size=3, stride=2, padding=1),\n",
    "            nn.ReLU(),\n",
    "            nn.BatchNorm2d(num_features=64),\n",
    "            \n",
    "            # conv2\n",
    "            nn.Conv2d(64, 128, kernel_size=3, stride=1, padding=1),\n",
    "            nn.ReLU(),\n",
    "            nn.Conv2d(128, 128, kernel_size=3, stride=2, padding=1),\n",
    "            nn.ReLU(),\n",
    "            nn.BatchNorm2d(num_features=128),\n",
    "            \n",
    "            # conv3\n",
    "            nn.Conv2d(128, 256, kernel_size = 3, stride = 1, padding = 1),\n",
    "            nn.ReLU(),\n",
    "            nn.Conv2d(256, 256, kernel_size = 3, stride = 1, padding = 1),\n",
    "            nn.ReLU(),\n",
    "            nn.Conv2d(256, 256, kernel_size = 3, stride = 2, padding = 1),\n",
    "            nn.ReLU(),\n",
    "            nn.BatchNorm2d(num_features = 256),\n",
    "            \n",
    "            # conv4\n",
    "            nn.Conv2d(256, 512, kernel_size = 3, stride = 1, padding = 1),\n",
    "            nn.ReLU(),\n",
    "            nn.Conv2d(512, 512, kernel_size = 3, stride = 1, padding = 1),\n",
    "            nn.ReLU(),\n",
    "            nn.Conv2d(512, 512, kernel_size = 3, stride = 1, padding = 1),\n",
    "            nn.ReLU(),\n",
    "            nn.BatchNorm2d(num_features = 512),\n",
    "            \n",
    "            # conv5\n",
    "            nn.Conv2d(in_channels = 512, out_channels = 512, kernel_size = 3, stride = 1, padding = 2, dilation = 2),\n",
    "            nn.ReLU(),\n",
    "            nn.Conv2d(in_channels = 512, out_channels = 512, kernel_size = 3, stride = 1, padding = 2, dilation = 2),\n",
    "            nn.ReLU(),\n",
    "            nn.Conv2d(in_channels = 512, out_channels = 512, kernel_size = 3, stride = 1, padding = 2, dilation = 2),\n",
    "            nn.ReLU(),\n",
    "            nn.BatchNorm2d(num_features = 512),\n",
    "            \n",
    "            # conv6\n",
    "            nn.ReLU(),\n",
    "            nn.Conv2d(in_channels = 512, out_channels = 512, kernel_size = 3, stride = 1, padding = 2, dilation = 2),\n",
    "            nn.ReLU(),\n",
    "            nn.Conv2d(in_channels = 512, out_channels = 512, kernel_size = 3, stride = 1, padding = 2, dilation = 2),\n",
    "            nn.ReLU(),\n",
    "            nn.Conv2d(in_channels = 512, out_channels = 512, kernel_size = 3, stride = 1, padding = 2, dilation = 2),\n",
    "            nn.ReLU(),\n",
    "            nn.BatchNorm2d(num_features = 512),\n",
    "            \n",
    "            # conv7\n",
    "            nn.Conv2d(in_channels = 512, out_channels = 512, kernel_size = 3, stride = 1, padding = 1, dilation = 1),\n",
    "            nn.ReLU(),\n",
    "            nn.Conv2d(in_channels = 512, out_channels = 512, kernel_size = 3, stride = 1, padding = 1, dilation = 1),\n",
    "            nn.ReLU(),\n",
    "            nn.Conv2d(in_channels = 512, out_channels = 512, kernel_size = 3, stride = 1, padding = 1, dilation = 1),\n",
    "            nn.ReLU(),\n",
    "            nn.BatchNorm2d(num_features = 512),\n",
    "            \n",
    "            # conv8\n",
    "            nn.ConvTranspose2d(in_channels = 512, out_channels = 256, kernel_size = 4, stride = 2, padding = 1, dilation = 1),\n",
    "            nn.ReLU(),\n",
    "            nn.Conv2d(in_channels = 256, out_channels = 256, kernel_size = 3, stride = 1, padding = 1, dilation = 1),\n",
    "            nn.ReLU(),\n",
    "            nn.Conv2d(in_channels = 256, out_channels = 256, kernel_size = 3, stride = 1, padding = 1, dilation = 1),\n",
    "            nn.ReLU(),\n",
    "            \n",
    "            # conv8_313, softmax, decoding\n",
    "            nn.Conv2d(in_channels = 256, out_channels = 313, kernel_size = 1, stride = 1, dilation = 1),\n",
    "            #nn.Softmax(dim=1),\n",
    "            #nn.Conv2d(in_channels = 313, out_channels = 2, kernel_size = 1, stride = 1)\n",
    "        )\n",
    "    def forward(self, x):\n",
    "        features = self.features(x)\n",
    "        return features\n",
    "\n",
    "c_net = ColorNet()"
   ]
  },
  {
   "cell_type": "code",
   "execution_count": 23,
   "metadata": {},
   "outputs": [
    {
     "name": "stdout",
     "output_type": "stream",
     "text": [
      "torch.Size([16, 1, 64, 64])\n",
      "torch.Size([16, 1, 8192])\n",
      "torch.Size([16, 313, 16, 16])\n"
     ]
    }
   ],
   "source": [
    "inputs, labels = dataiter.next()\n",
    "print(inputs.size())\n",
    "print(labels.size())\n",
    "\n",
    "inputs = inputs.float()\n",
    "res = c_net(inputs)\n",
    "print(res.size())"
   ]
  },
  {
   "cell_type": "code",
   "execution_count": null,
   "metadata": {},
   "outputs": [],
   "source": []
  }
 ],
 "metadata": {
  "kernelspec": {
   "display_name": "Python 3",
   "language": "python",
   "name": "python3"
  },
  "language_info": {
   "codemirror_mode": {
    "name": "ipython",
    "version": 3
   },
   "file_extension": ".py",
   "mimetype": "text/x-python",
   "name": "python",
   "nbconvert_exporter": "python",
   "pygments_lexer": "ipython3",
   "version": "3.7.3"
  }
 },
 "nbformat": 4,
 "nbformat_minor": 2
}
